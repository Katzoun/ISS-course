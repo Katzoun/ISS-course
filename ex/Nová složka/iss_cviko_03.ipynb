{
 "cells": [
  {
   "cell_type": "code",
   "execution_count": 33,
   "id": "6d81bd8c",
   "metadata": {},
   "outputs": [
    {
     "name": "stdout",
     "output_type": "stream",
     "text": [
      "[ 1.   0.   0.  -1.   0.   0.5  0.  -0.5  0.   0.   0.   0.   0.   0.\n",
      "  0. ]\n",
      "1.00 & -0.00 & -0.00 & -1.00 & 0.00 & 0.50 & 0.00 & -0.50 & "
     ]
    }
   ],
   "source": [
    "# -------------- Cviko 3 filtering   --------------------------\n",
    "import numpy as np\n",
    "import matplotlib.pyplot as plt\n",
    "N = 8\n",
    "n = np.arange(N)\n",
    "x = [1, 1, 1, 0, 0, 0.5, 0.5, 0]\n",
    "h = [1, -1, 0,0,0,0,0,0]\n",
    "y = np.convolve(x,h)\n",
    "print(y)\n",
    "\n",
    "# circular one using fft ... \n",
    "X = np.fft.fft(x)\n",
    "H = np.fft.fft(h)\n",
    "yc = np.fft.ifft(X * H)\n",
    "for gg in np.real(yc):\n",
    "    print(\"{:.2f}\".format(gg),end = ' & ')\n",
    " "
   ]
  },
  {
   "cell_type": "code",
   "execution_count": 34,
   "id": "8bdc0a2e",
   "metadata": {},
   "outputs": [
    {
     "name": "stdout",
     "output_type": "stream",
     "text": [
      "---X---\n",
      "4.00+0.00j & 1.35-0.85j & -0.50-1.50j & 0.65+0.15j & 1.00+0.00j & 0.65-0.15j & -0.50+1.50j & 1.35+0.85j & \n",
      "---H---\n",
      "0.00+0.00j & 0.29+0.71j & 1.00+1.00j & 1.71+0.71j & 2.00+0.00j & 1.71-0.71j & 1.00-1.00j & 0.29-0.71j & \n",
      "---Y---\n",
      "0.00+0.00j & 1.00+0.71j & 1.00-2.00j & 1.00+0.71j & 2.00+0.00j & 1.00-0.71j & 1.00+2.00j & 1.00-0.71j & \n",
      "---X * H---\n",
      "0.00+0.00j & 1.00+0.71j & 1.00-2.00j & 1.00+0.71j & 2.00+0.00j & 1.00-0.71j & 1.00+2.00j & 1.00-0.71j & "
     ]
    }
   ],
   "source": [
    "# convolution vs spectra \n",
    "print ('---X---')\n",
    "for gg in X:\n",
    "    print(\"{:.2f}\".format(gg),end = ' & ')\n",
    "print ('\\n---H---')\n",
    "for gg in H:\n",
    "    print(\"{:.2f}\".format(gg),end = ' & ')\n",
    "Y = np.fft.fft(y[0:8])\n",
    "print ('\\n---Y---')\n",
    "for gg in Y:\n",
    "    print(\"{:.2f}\".format(gg),end = ' & ')\n",
    "print ('\\n---X * H---')\n",
    "for gg in X * H:\n",
    "    print(\"{:.2f}\".format(gg),end = ' & ')\n"
   ]
  },
  {
   "cell_type": "code",
   "execution_count": 41,
   "id": "d6db762f",
   "metadata": {},
   "outputs": [
    {
     "name": "stdout",
     "output_type": "stream",
     "text": [
      "[ 1.   1.   0.  -1.  -1.   0.5  0.5 -0.5 -0.5  0.   0.   0.   0.   0.\n",
      "  0.   0.   0. ]\n",
      "---X---\n",
      "4.00+0.00j & 1.22-1.02j & 0.37-2.08j & 0.25+0.43j & 0.66+0.24j & 0.66-0.24j & 0.25-0.43j & 0.37+2.08j & 1.22+1.02j & \n",
      "---H---\n",
      "0.00+0.00j & 0.83+0.98j & 1.94+0.34j & 1.50-0.87j & 0.23-0.64j & 0.23+0.64j & 1.50+0.87j & 1.94-0.34j & 0.83-0.98j & \n",
      "---Y---\n",
      "0.00+0.00j & 2.02+0.36j & 1.42-3.91j & 0.75+0.43j & 0.31-0.37j & 0.31+0.37j & 0.75-0.43j & 1.42+3.91j & 2.02-0.36j & \n",
      "---X * H---\n",
      "0.00+0.00j & 2.02+0.36j & 1.42-3.91j & 0.75+0.43j & 0.31-0.37j & 0.31+0.37j & 0.75-0.43j & 1.42+3.91j & 2.02-0.36j & "
     ]
    }
   ],
   "source": [
    "#------------ for h = 1 0 -1 ... \n",
    "x = [1, 1, 1, 0, 0, 0.5, 0.5, 0, 0]   # length 9\n",
    "h = [1, 0, -1, 0,0,0,0,0,0]            # length 9\n",
    "y = np.convolve(x,h)\n",
    "print(y)\n",
    "\n",
    "# --- first for N=9 ----- \n",
    "X = np.fft.fft(x)\n",
    "H = np.fft.fft(h)\n",
    "Y = np.fft.fft(y[0:9])\n",
    "\n",
    "print ('---X---')\n",
    "for gg in X:\n",
    "    print(\"{:.2f}\".format(gg),end = ' & ')\n",
    "print ('\\n---H---')\n",
    "for gg in H:\n",
    "    print(\"{:.2f}\".format(gg),end = ' & ')\n",
    "print ('\\n---Y---')\n",
    "for gg in Y:\n",
    "    print(\"{:.2f}\".format(gg),end = ' & ')\n",
    "print ('\\n---X * H---')\n",
    "for gg in X * H:\n",
    "    print(\"{:.2f}\".format(gg),end = ' & ')\n"
   ]
  },
  {
   "cell_type": "code",
   "execution_count": 43,
   "id": "64cfa84b",
   "metadata": {},
   "outputs": [
    {
     "name": "stdout",
     "output_type": "stream",
     "text": [
      "---X---\n",
      "4.00+0.00j & 1.35-0.85j & -0.50-1.50j & 0.65+0.15j & 1.00+0.00j & 0.65-0.15j & -0.50+1.50j & 1.35+0.85j & \n",
      "---H---\n",
      "0.00+0.00j & 1.00+1.00j & 2.00+0.00j & 1.00-1.00j & 0.00+0.00j & 1.00+1.00j & 2.00+0.00j & 1.00-1.00j & \n",
      "---Y---\n",
      "0.50+0.00j & 2.71+0.50j & -0.50-3.00j & 1.29-0.50j & 0.50+0.00j & 1.29+0.50j & -0.50+3.00j & 2.71-0.50j & \n",
      "---X * H---\n",
      "0.00+0.00j & 2.21+0.50j & -1.00-3.00j & 0.79-0.50j & 0.00+0.00j & 0.79+0.50j & -1.00+3.00j & 2.21-0.50j & "
     ]
    }
   ],
   "source": [
    "# now for N = 8 ... \n",
    "X = np.fft.fft(x[0:8])\n",
    "H = np.fft.fft(h[0:8])\n",
    "Y = np.fft.fft(y[0:8])\n",
    "\n",
    "print ('---X---')\n",
    "for gg in X:\n",
    "    print(\"{:.2f}\".format(gg),end = ' & ')\n",
    "print ('\\n---H---')\n",
    "for gg in H:\n",
    "    print(\"{:.2f}\".format(gg),end = ' & ')\n",
    "print ('\\n---Y---')\n",
    "for gg in Y:\n",
    "    print(\"{:.2f}\".format(gg),end = ' & ')\n",
    "print ('\\n---X * H---')\n",
    "for gg in X * H:\n",
    "    print(\"{:.2f}\".format(gg),end = ' & ')\n"
   ]
  },
  {
   "cell_type": "code",
   "execution_count": 44,
   "id": "4254f8bd",
   "metadata": {},
   "outputs": [
    {
     "name": "stdout",
     "output_type": "stream",
     "text": [
      "\n",
      "---Yc---\n",
      "0.00+0.00j & 2.21+0.50j & -1.00-3.00j & 0.79-0.50j & 0.00+0.00j & 0.79+0.50j & -1.00+3.00j & 2.21-0.50j & \n",
      "---X * H---\n",
      "0.00+0.00j & 2.21+0.50j & -1.00-3.00j & 0.79-0.50j & 0.00+0.00j & 0.79+0.50j & -1.00+3.00j & 2.21-0.50j & "
     ]
    }
   ],
   "source": [
    "# fix with circular convolution ... \n",
    "yc = np.fft.ifft(X * H)\n",
    "Yc = np.fft.fft(yc)\n",
    "print ('\\n---Yc---')\n",
    "for gg in Yc:\n",
    "    print(\"{:.2f}\".format(gg),end = ' & ')\n",
    "print ('\\n---X * H---')\n",
    "for gg in X * H:\n",
    "    print(\"{:.2f}\".format(gg),end = ' & ')\n"
   ]
  }
 ],
 "metadata": {
  "kernelspec": {
   "display_name": "Python 3 (ipykernel)",
   "language": "python",
   "name": "python3"
  },
  "language_info": {
   "codemirror_mode": {
    "name": "ipython",
    "version": 3
   },
   "file_extension": ".py",
   "mimetype": "text/x-python",
   "name": "python",
   "nbconvert_exporter": "python",
   "pygments_lexer": "ipython3",
   "version": "3.9.12"
  }
 },
 "nbformat": 4,
 "nbformat_minor": 5
}
