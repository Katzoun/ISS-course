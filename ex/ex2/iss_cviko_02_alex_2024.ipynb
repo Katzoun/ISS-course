{
 "cells": [
  {
   "cell_type": "code",
   "execution_count": 0,
   "metadata": {},
   "outputs": [],
   "source": [
    "import numpy as np"
   ]
  },
  {
   "cell_type": "code",
   "execution_count": 27,
   "outputs": [
    {
     "data": {
      "text/plain": "array([1. , 1. , 1. , 0. , 0. , 0.5, 0.5, 0. ])"
     },
     "execution_count": 27,
     "metadata": {},
     "output_type": "execute_result"
    }
   ],
   "source": [
    "x = np.array([1, 1, 1, 0, 0, 0.5, 0.5, 0])\n",
    "x"
   ],
   "metadata": {
    "collapsed": false,
    "ExecuteTime": {
     "end_time": "2024-10-10T17:48:14.920355Z",
     "start_time": "2024-10-10T17:48:14.914104Z"
    }
   }
  },
  {
   "cell_type": "code",
   "execution_count": 28,
   "outputs": [
    {
     "data": {
      "text/plain": "array([[0, 1, 2, 3, 4, 5, 6, 7]])"
     },
     "execution_count": 28,
     "metadata": {},
     "output_type": "execute_result"
    }
   ],
   "source": [
    "N = x.shape[0]\n",
    "bases = 5\n",
    "\n",
    "A = np.arange(N)[None, :]\n",
    "A"
   ],
   "metadata": {
    "collapsed": false,
    "ExecuteTime": {
     "end_time": "2024-10-10T17:48:15.429692Z",
     "start_time": "2024-10-10T17:48:15.427237Z"
    }
   }
  },
  {
   "cell_type": "code",
   "execution_count": 29,
   "outputs": [
    {
     "data": {
      "text/plain": "array([[0, 1, 2, 3, 4, 5, 6, 7],\n       [0, 1, 2, 3, 4, 5, 6, 7],\n       [0, 1, 2, 3, 4, 5, 6, 7],\n       [0, 1, 2, 3, 4, 5, 6, 7],\n       [0, 1, 2, 3, 4, 5, 6, 7]])"
     },
     "execution_count": 29,
     "metadata": {},
     "output_type": "execute_result"
    }
   ],
   "source": [
    "A = A.repeat(bases, axis=0)\n",
    "A"
   ],
   "metadata": {
    "collapsed": false,
    "ExecuteTime": {
     "end_time": "2024-10-10T17:48:16.265336Z",
     "start_time": "2024-10-10T17:48:16.260796Z"
    }
   }
  },
  {
   "cell_type": "code",
   "execution_count": 32,
   "outputs": [
    {
     "data": {
      "text/plain": "array([0, 1, 2, 3, 4])"
     },
     "execution_count": 32,
     "metadata": {},
     "output_type": "execute_result"
    }
   ],
   "source": [
    "k = np.arange(5)\n",
    "k"
   ],
   "metadata": {
    "collapsed": false,
    "ExecuteTime": {
     "end_time": "2024-10-10T17:48:44.218212Z",
     "start_time": "2024-10-10T17:48:44.213600Z"
    }
   }
  },
  {
   "cell_type": "code",
   "execution_count": 30,
   "outputs": [
    {
     "data": {
      "text/plain": "array([[ 0,  0,  0,  0,  0,  0,  0,  0],\n       [ 0,  1,  2,  3,  4,  5,  6,  7],\n       [ 0,  2,  4,  6,  8, 10, 12, 14],\n       [ 0,  3,  6,  9, 12, 15, 18, 21],\n       [ 0,  4,  8, 12, 16, 20, 24, 28]])"
     },
     "execution_count": 30,
     "metadata": {},
     "output_type": "execute_result"
    }
   ],
   "source": [
    "A = A * k[:, None] \n",
    "A"
   ],
   "metadata": {
    "collapsed": false,
    "ExecuteTime": {
     "end_time": "2024-10-10T17:48:16.993753Z",
     "start_time": "2024-10-10T17:48:16.990637Z"
    }
   }
  },
  {
   "cell_type": "code",
   "execution_count": 31,
   "outputs": [
    {
     "data": {
      "text/plain": "array([[ 0.        ,  0.        ,  0.        ,  0.        ,  0.        ,\n         0.        ,  0.        ,  0.        ],\n       [ 0.        ,  0.78539816,  1.57079633,  2.35619449,  3.14159265,\n         3.92699082,  4.71238898,  5.49778714],\n       [ 0.        ,  1.57079633,  3.14159265,  4.71238898,  6.28318531,\n         7.85398163,  9.42477796, 10.99557429],\n       [ 0.        ,  2.35619449,  4.71238898,  7.06858347,  9.42477796,\n        11.78097245, 14.13716694, 16.49336143],\n       [ 0.        ,  3.14159265,  6.28318531,  9.42477796, 12.56637061,\n        15.70796327, 18.84955592, 21.99114858]])"
     },
     "execution_count": 31,
     "metadata": {},
     "output_type": "execute_result"
    }
   ],
   "source": [
    "A = A * 2 * np.pi / N\n",
    "A"
   ],
   "metadata": {
    "collapsed": false,
    "ExecuteTime": {
     "end_time": "2024-10-10T17:48:17.842178Z",
     "start_time": "2024-10-10T17:48:17.839622Z"
    }
   }
  },
  {
   "cell_type": "code",
   "execution_count": 41,
   "outputs": [
    {
     "data": {
      "text/plain": "array([[ 1.00000000e+00,  1.00000000e+00,  1.00000000e+00,\n         1.00000000e+00,  1.00000000e+00,  1.00000000e+00,\n         1.00000000e+00,  1.00000000e+00],\n       [ 1.00000000e+00,  7.07106781e-01,  6.12323400e-17,\n        -7.07106781e-01, -1.00000000e+00, -7.07106781e-01,\n        -1.83697020e-16,  7.07106781e-01],\n       [ 1.00000000e+00,  6.12323400e-17, -1.00000000e+00,\n        -1.83697020e-16,  1.00000000e+00,  3.06161700e-16,\n        -1.00000000e+00, -4.28626380e-16],\n       [ 1.00000000e+00, -7.07106781e-01, -1.83697020e-16,\n         7.07106781e-01, -1.00000000e+00,  7.07106781e-01,\n         5.51091060e-16, -7.07106781e-01],\n       [ 1.00000000e+00, -1.00000000e+00,  1.00000000e+00,\n        -1.00000000e+00,  1.00000000e+00, -1.00000000e+00,\n         1.00000000e+00, -1.00000000e+00]])"
     },
     "execution_count": 41,
     "metadata": {},
     "output_type": "execute_result"
    }
   ],
   "source": [
    "A_c = np.cos(A)\n",
    "A_c"
   ],
   "metadata": {
    "collapsed": false,
    "ExecuteTime": {
     "end_time": "2024-10-10T17:51:13.274896Z",
     "start_time": "2024-10-10T17:51:13.271505Z"
    }
   }
  },
  {
   "cell_type": "code",
   "execution_count": 42,
   "outputs": [
    {
     "data": {
      "text/plain": "0.7071067811865476"
     },
     "execution_count": 42,
     "metadata": {},
     "output_type": "execute_result"
    }
   ],
   "source": [
    "2**(1/2)/2"
   ],
   "metadata": {
    "collapsed": false,
    "ExecuteTime": {
     "end_time": "2024-10-10T17:51:15.024136Z",
     "start_time": "2024-10-10T17:51:15.017627Z"
    }
   }
  },
  {
   "cell_type": "code",
   "execution_count": 43,
   "outputs": [
    {
     "data": {
      "text/plain": "array([ 4.        ,  1.35355339, -0.5       ,  0.64644661,  1.        ])"
     },
     "execution_count": 43,
     "metadata": {},
     "output_type": "execute_result"
    }
   ],
   "source": [
    "c_k = A_c @ x\n",
    "c_k"
   ],
   "metadata": {
    "collapsed": false,
    "ExecuteTime": {
     "end_time": "2024-10-10T17:51:18.012776Z",
     "start_time": "2024-10-10T17:51:18.009662Z"
    }
   }
  },
  {
   "cell_type": "code",
   "execution_count": 47,
   "metadata": {
    "ExecuteTime": {
     "end_time": "2024-10-10T17:51:55.446073Z",
     "start_time": "2024-10-10T17:51:55.442761Z"
    }
   },
   "outputs": [
    {
     "data": {
      "text/plain": "array([[ 0.00000000e+00,  0.00000000e+00,  0.00000000e+00,\n         0.00000000e+00,  0.00000000e+00,  0.00000000e+00,\n         0.00000000e+00,  0.00000000e+00],\n       [ 0.00000000e+00,  7.07106781e-01,  1.00000000e+00,\n         7.07106781e-01,  1.22464680e-16, -7.07106781e-01,\n        -1.00000000e+00, -7.07106781e-01],\n       [ 0.00000000e+00,  1.00000000e+00,  1.22464680e-16,\n        -1.00000000e+00, -2.44929360e-16,  1.00000000e+00,\n         3.67394040e-16, -1.00000000e+00],\n       [ 0.00000000e+00,  7.07106781e-01, -1.00000000e+00,\n         7.07106781e-01,  3.67394040e-16, -7.07106781e-01,\n         1.00000000e+00, -7.07106781e-01],\n       [ 0.00000000e+00,  1.22464680e-16, -2.44929360e-16,\n         3.67394040e-16, -4.89858720e-16,  6.12323400e-16,\n        -7.34788079e-16,  8.57252759e-16]])"
     },
     "execution_count": 47,
     "metadata": {},
     "output_type": "execute_result"
    }
   ],
   "source": [
    "A_d = np.sin(A)\n",
    "A_d"
   ]
  },
  {
   "cell_type": "code",
   "execution_count": 48,
   "metadata": {
    "ExecuteTime": {
     "end_time": "2024-10-10T17:51:56.027927Z",
     "start_time": "2024-10-10T17:51:56.023592Z"
    }
   },
   "outputs": [
    {
     "data": {
      "text/plain": "array([ 0.00000000e+00,  8.53553391e-01,  1.50000000e+00, -1.46446609e-01,\n       -1.83697020e-16])"
     },
     "execution_count": 48,
     "metadata": {},
     "output_type": "execute_result"
    }
   ],
   "source": [
    "d_k = A_d @ x\n",
    "d_k"
   ]
  },
  {
   "cell_type": "code",
   "execution_count": 51,
   "metadata": {
    "ExecuteTime": {
     "end_time": "2024-10-10T17:53:03.852887Z",
     "start_time": "2024-10-10T17:53:03.848321Z"
    }
   },
   "outputs": [
    {
     "data": {
      "text/plain": "array([[ 4.00000000e+00,  0.00000000e+00],\n       [ 1.35355339e+00,  8.53553391e-01],\n       [-5.00000000e-01,  1.50000000e+00],\n       [ 6.46446609e-01, -1.46446609e-01],\n       [ 1.00000000e+00, -1.83697020e-16]])"
     },
     "execution_count": 51,
     "metadata": {},
     "output_type": "execute_result"
    }
   ],
   "source": [
    "np.stack([c_k, d_k], axis=1)"
   ]
  },
  {
   "cell_type": "code",
   "execution_count": 53,
   "outputs": [
    {
     "data": {
      "text/plain": "array([4.        , 1.60020629, 1.58113883, 0.66282715, 1.        ])"
     },
     "execution_count": 53,
     "metadata": {},
     "output_type": "execute_result"
    }
   ],
   "source": [
    "B = (c_k **2 + d_k **2) ** (1/2)\n",
    "B"
   ],
   "metadata": {
    "collapsed": false,
    "ExecuteTime": {
     "end_time": "2024-10-10T17:53:47.516879Z",
     "start_time": "2024-10-10T17:53:47.514652Z"
    }
   }
  },
  {
   "cell_type": "code",
   "execution_count": 55,
   "outputs": [
    {
     "data": {
      "text/plain": "array([ 0.00000000e+00,  5.62617536e-01,  1.89254688e+00, -2.22780627e-01,\n       -1.83697020e-16])"
     },
     "execution_count": 55,
     "metadata": {},
     "output_type": "execute_result"
    }
   ],
   "source": [
    "phi = np.arctan2(d_k, c_k)\n",
    "phi"
   ],
   "metadata": {
    "collapsed": false,
    "ExecuteTime": {
     "end_time": "2024-10-10T17:54:42.904518Z",
     "start_time": "2024-10-10T17:54:42.901304Z"
    }
   }
  },
  {
   "cell_type": "code",
   "execution_count": 57,
   "outputs": [
    {
     "data": {
      "text/plain": "array([[ 1.00000000e+00+0.00000000e+00j,  1.00000000e+00+0.00000000e+00j,\n         1.00000000e+00+0.00000000e+00j,  1.00000000e+00+0.00000000e+00j,\n         1.00000000e+00+0.00000000e+00j,  1.00000000e+00+0.00000000e+00j,\n         1.00000000e+00+0.00000000e+00j,  1.00000000e+00+0.00000000e+00j],\n       [ 1.00000000e+00+0.00000000e+00j,  7.07106781e-01+7.07106781e-01j,\n         6.12323400e-17+1.00000000e+00j, -7.07106781e-01+7.07106781e-01j,\n        -1.00000000e+00+1.22464680e-16j, -7.07106781e-01-7.07106781e-01j,\n        -1.83697020e-16-1.00000000e+00j,  7.07106781e-01-7.07106781e-01j],\n       [ 1.00000000e+00+0.00000000e+00j,  6.12323400e-17+1.00000000e+00j,\n        -1.00000000e+00+1.22464680e-16j, -1.83697020e-16-1.00000000e+00j,\n         1.00000000e+00-2.44929360e-16j,  3.06161700e-16+1.00000000e+00j,\n        -1.00000000e+00+3.67394040e-16j, -4.28626380e-16-1.00000000e+00j],\n       [ 1.00000000e+00+0.00000000e+00j, -7.07106781e-01+7.07106781e-01j,\n        -1.83697020e-16-1.00000000e+00j,  7.07106781e-01+7.07106781e-01j,\n        -1.00000000e+00+3.67394040e-16j,  7.07106781e-01-7.07106781e-01j,\n         5.51091060e-16+1.00000000e+00j, -7.07106781e-01-7.07106781e-01j],\n       [ 1.00000000e+00+0.00000000e+00j, -1.00000000e+00+1.22464680e-16j,\n         1.00000000e+00-2.44929360e-16j, -1.00000000e+00+3.67394040e-16j,\n         1.00000000e+00-4.89858720e-16j, -1.00000000e+00+6.12323400e-16j,\n         1.00000000e+00-7.34788079e-16j, -1.00000000e+00+8.57252759e-16j]])"
     },
     "execution_count": 57,
     "metadata": {},
     "output_type": "execute_result"
    }
   ],
   "source": [
    "A_e = np.exp(1j * A)\n",
    "A_e"
   ],
   "metadata": {
    "collapsed": false,
    "ExecuteTime": {
     "end_time": "2024-10-10T17:56:11.211837Z",
     "start_time": "2024-10-10T17:56:11.209282Z"
    }
   }
  },
  {
   "cell_type": "code",
   "execution_count": 58,
   "outputs": [
    {
     "data": {
      "text/plain": "array([ 4.        +0.00000000e+00j,  1.35355339+8.53553391e-01j,\n       -0.5       +1.50000000e+00j,  0.64644661-1.46446609e-01j,\n        1.        -1.83697020e-16j])"
     },
     "execution_count": 58,
     "metadata": {},
     "output_type": "execute_result"
    }
   ],
   "source": [
    "e_k = A_e @ x\n",
    "e_k"
   ],
   "metadata": {
    "collapsed": false,
    "ExecuteTime": {
     "end_time": "2024-10-10T17:56:42.637925Z",
     "start_time": "2024-10-10T17:56:42.630176Z"
    }
   }
  },
  {
   "cell_type": "code",
   "execution_count": 63,
   "outputs": [
    {
     "data": {
      "text/plain": "array([[ 1.00000000e+00+0.00000000e+00j,  1.00000000e+00+0.00000000e+00j,\n         1.00000000e+00+0.00000000e+00j,  1.00000000e+00+0.00000000e+00j,\n         1.00000000e+00+0.00000000e+00j,  1.00000000e+00+0.00000000e+00j,\n         1.00000000e+00+0.00000000e+00j,  1.00000000e+00+0.00000000e+00j],\n       [ 1.00000000e+00+0.00000000e+00j,  7.07106781e-01-7.07106781e-01j,\n         6.12323400e-17-1.00000000e+00j, -7.07106781e-01-7.07106781e-01j,\n        -1.00000000e+00-1.22464680e-16j, -7.07106781e-01+7.07106781e-01j,\n        -1.83697020e-16+1.00000000e+00j,  7.07106781e-01+7.07106781e-01j],\n       [ 1.00000000e+00+0.00000000e+00j,  6.12323400e-17-1.00000000e+00j,\n        -1.00000000e+00-1.22464680e-16j, -1.83697020e-16+1.00000000e+00j,\n         1.00000000e+00+2.44929360e-16j,  3.06161700e-16-1.00000000e+00j,\n        -1.00000000e+00-3.67394040e-16j, -4.28626380e-16+1.00000000e+00j],\n       [ 1.00000000e+00+0.00000000e+00j, -7.07106781e-01-7.07106781e-01j,\n        -1.83697020e-16+1.00000000e+00j,  7.07106781e-01-7.07106781e-01j,\n        -1.00000000e+00-3.67394040e-16j,  7.07106781e-01+7.07106781e-01j,\n         5.51091060e-16-1.00000000e+00j, -7.07106781e-01+7.07106781e-01j],\n       [ 1.00000000e+00+0.00000000e+00j, -1.00000000e+00-1.22464680e-16j,\n         1.00000000e+00+2.44929360e-16j, -1.00000000e+00-3.67394040e-16j,\n         1.00000000e+00+4.89858720e-16j, -1.00000000e+00-6.12323400e-16j,\n         1.00000000e+00+7.34788079e-16j, -1.00000000e+00-8.57252759e-16j]])"
     },
     "execution_count": 63,
     "metadata": {},
     "output_type": "execute_result"
    }
   ],
   "source": [
    "A_e_neg = np.exp(-1j * A)\n",
    "A_e_neg"
   ],
   "metadata": {
    "collapsed": false,
    "ExecuteTime": {
     "end_time": "2024-10-10T17:57:45.788174Z",
     "start_time": "2024-10-10T17:57:45.782541Z"
    }
   }
  },
  {
   "cell_type": "code",
   "execution_count": 65,
   "outputs": [
    {
     "data": {
      "text/plain": "array([ 4.        +0.00000000e+00j,  1.35355339-8.53553391e-01j,\n       -0.5       -1.50000000e+00j,  0.64644661+1.46446609e-01j,\n        1.        +1.83697020e-16j])"
     },
     "execution_count": 65,
     "metadata": {},
     "output_type": "execute_result"
    }
   ],
   "source": [
    "e_neg_k = A_e_neg @ x\n",
    "e_neg_k"
   ],
   "metadata": {
    "collapsed": false,
    "ExecuteTime": {
     "end_time": "2024-10-10T17:58:44.594460Z",
     "start_time": "2024-10-10T17:58:44.589857Z"
    }
   }
  },
  {
   "cell_type": "code",
   "execution_count": 66,
   "outputs": [
    {
     "data": {
      "text/plain": "array([0.+0.00000000e+00j, 0.+1.70710678e+00j, 0.+3.00000000e+00j,\n       0.-2.92893219e-01j, 0.-3.67394040e-16j])"
     },
     "execution_count": 66,
     "metadata": {},
     "output_type": "execute_result"
    }
   ],
   "source": [
    "e_k - e_neg_k"
   ],
   "metadata": {
    "collapsed": false,
    "ExecuteTime": {
     "end_time": "2024-10-10T17:58:54.071260Z",
     "start_time": "2024-10-10T17:58:54.063485Z"
    }
   }
  },
  {
   "cell_type": "code",
   "execution_count": null,
   "outputs": [],
   "source": [],
   "metadata": {
    "collapsed": false
   }
  }
 ],
 "metadata": {
  "kernelspec": {
   "display_name": "Python 3",
   "language": "python",
   "name": "python3"
  },
  "language_info": {
   "codemirror_mode": {
    "name": "ipython",
    "version": 3
   },
   "file_extension": ".py",
   "mimetype": "text/x-python",
   "name": "python",
   "nbconvert_exporter": "python",
   "pygments_lexer": "ipython3",
   "version": "3.7.4"
  }
 },
 "nbformat": 4,
 "nbformat_minor": 2
}
